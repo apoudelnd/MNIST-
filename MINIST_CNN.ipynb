{
  "nbformat": 4,
  "nbformat_minor": 0,
  "metadata": {
    "colab": {
      "name": "MINIST CNN.ipynb",
      "provenance": [],
      "collapsed_sections": []
    },
    "kernelspec": {
      "name": "python3",
      "display_name": "Python 3"
    },
    "language_info": {
      "name": "python"
    },
    "accelerator": "GPU"
  },
  "cells": [
    {
      "cell_type": "code",
      "metadata": {
        "id": "lMaLgGtMZ8Ih",
        "colab": {
          "base_uri": "https://localhost:8080/"
        },
        "outputId": "c31f944d-9feb-47fb-d1bb-41da1a46ded9"
      },
      "source": [
        "#Loading and transforming images\n",
        "\n",
        "!pip install Pillow==5.3.0"
      ],
      "execution_count": 1,
      "outputs": [
        {
          "output_type": "stream",
          "name": "stdout",
          "text": [
            "Requirement already satisfied: Pillow==5.3.0 in /usr/local/lib/python3.7/dist-packages (5.3.0)\n"
          ]
        }
      ]
    },
    {
      "cell_type": "code",
      "metadata": {
        "id": "3QPj-odhwQDk"
      },
      "source": [
        "import torch\n",
        "import matplotlib.pyplot as plt\n",
        "import numpy as np\n",
        "from torchvision import transforms, datasets\n",
        "from torch import nn\n",
        "import torch.nn.functional as F"
      ],
      "execution_count": 2,
      "outputs": []
    },
    {
      "cell_type": "code",
      "metadata": {
        "id": "WQxBqMSU75CD"
      },
      "source": [
        "device = torch.device('cuda:0' if torch.cuda.is_available() else \"cpu\")"
      ],
      "execution_count": 3,
      "outputs": []
    },
    {
      "cell_type": "code",
      "metadata": {
        "id": "1VYiSZ4twVeP",
        "colab": {
          "base_uri": "https://localhost:8080/"
        },
        "outputId": "a61f26e1-c97b-4d5f-be2f-aed90deb1056"
      },
      "source": [
        "transform = transforms.Compose([transforms.Resize((28,28)),\n",
        "                                transforms.ToTensor(),\n",
        "                                transforms.Normalize((0.5,), (0.5,))])\n",
        "\n",
        "training_dataset = datasets.MNIST(root ='./data',train = True, download= True, transform = transform )\n",
        "validation_dataset = datasets.MNIST(root ='./data',train = False, download= True, transform = transform )\n",
        "\n",
        "training_loader = torch.utils.data.DataLoader(dataset=training_dataset,batch_size=100,shuffle= True)\n",
        "val_loader = torch.utils.data.DataLoader(dataset=validation_dataset,batch_size=100,shuffle= False)"
      ],
      "execution_count": 4,
      "outputs": [
        {
          "output_type": "stream",
          "name": "stderr",
          "text": [
            "/usr/local/lib/python3.7/dist-packages/torchvision/datasets/mnist.py:498: UserWarning: The given NumPy array is not writeable, and PyTorch does not support non-writeable tensors. This means you can write to the underlying (supposedly non-writeable) NumPy array using the tensor. You may want to copy the array to protect its data or make it writeable before converting it to a tensor. This type of warning will be suppressed for the rest of this program. (Triggered internally at  /pytorch/torch/csrc/utils/tensor_numpy.cpp:180.)\n",
            "  return torch.from_numpy(parsed.astype(m[2], copy=False)).view(*s)\n"
          ]
        }
      ]
    },
    {
      "cell_type": "code",
      "metadata": {
        "colab": {
          "base_uri": "https://localhost:8080/",
          "height": 35
        },
        "id": "mgM1X2MD-Dmw",
        "outputId": "43246bd7-8db7-4ce4-94c7-8c5857957b6f"
      },
      "source": [
        "\"\"\"for inputs,labels in training_loader:\n",
        "    print (inputs.shape)\n",
        "    inputs = inputs.view(inputs.shape[0],-1)\n",
        "    print (inputs)\n",
        "    print (inputs.shape)\n",
        "    break \n",
        "    \"\"\""
      ],
      "execution_count": 5,
      "outputs": [
        {
          "output_type": "execute_result",
          "data": {
            "application/vnd.google.colaboratory.intrinsic+json": {
              "type": "string"
            },
            "text/plain": [
              "'for inputs,labels in training_loader:\\n    print (inputs.shape)\\n    inputs = inputs.view(inputs.shape[0],-1)\\n    print (inputs)\\n    print (inputs.shape)\\n    break \\n    '"
            ]
          },
          "metadata": {},
          "execution_count": 5
        }
      ]
    },
    {
      "cell_type": "code",
      "metadata": {
        "id": "luTkBIagzZP4"
      },
      "source": [
        "def image_convert(tensor):\n",
        "  image = tensor.cpu().clone().detach().numpy()\n",
        "  image = image.transpose(1,2,0)  # channels height width to height width channel \n",
        "  image = image*np.array((0.5,0.5,0.5,0.5))+np.array((0.5,0.5,0.5,0.5))\n",
        "  image = image.clip(0,1)\n",
        "  return image"
      ],
      "execution_count": 6,
      "outputs": []
    },
    {
      "cell_type": "code",
      "metadata": {
        "colab": {
          "base_uri": "https://localhost:8080/",
          "height": 268
        },
        "id": "Yq3R9_AY1fL0",
        "outputId": "9f88cc06-f020-4cb3-b10a-6152bb2b74cd"
      },
      "source": [
        "dataiter = iter(training_loader)\n",
        "images,labels = dataiter.next()\n",
        "fig = plt.figure(figsize =(25,4))\n",
        "\n",
        "for index in np.arange(20):\n",
        "  ax = fig.add_subplot(2,10,index+1,xticks=[],yticks=[])\n",
        "  plt.imshow(image_convert(images[index]))\n",
        "  ax.set_title ([labels[index].item()])\n",
        "\n"
      ],
      "execution_count": 7,
      "outputs": [
        {
          "output_type": "display_data",
          "data": {
            "image/png": "[encoded data removed]",
            "text/plain": [
              "<Figure size 1800x288 with 20 Axes>"
            ]
          },
          "metadata": {}
        }
      ]
    },
    {
      "cell_type": "code",
      "metadata": {
        "id": "C6ASNK6O50Qn"
      },
      "source": [
        "class LeNet(nn.Module):\n",
        "  def __init__(self,):\n",
        "    super().__init__()\n",
        "    self.conv1=nn.Conv2d(1,20,5,1) \n",
        "    self.conv2=nn.Conv2d(20,50,5,1)  \n",
        "    self.fc1= nn.Linear(4*4*50,500)\n",
        "    self.dropout1 = nn.Dropout(0.5)\n",
        "    self.fc2= nn.Linear(500,10)\n",
        "\n",
        "\n",
        "\n",
        "  def forward(self, x):\n",
        "    x = F.relu(self.conv1(x))\n",
        "    x = F.max_pool2d(x,2,2)\n",
        "    x = F.relu(self.conv2(x))\n",
        "    x = F.max_pool2d(x,2,2)\n",
        "    x = x.view(-1,4*4*50)\n",
        "    x = F.relu(self.fc1(x))\n",
        "    x = self.dropout1(x)\n",
        "    x = self.fc2(x)\n",
        "  \n",
        "    return x\n",
        "\n"
      ],
      "execution_count": 8,
      "outputs": []
    },
    {
      "cell_type": "code",
      "metadata": {
        "colab": {
          "base_uri": "https://localhost:8080/"
        },
        "id": "Wy3usFBL7pOU",
        "outputId": "fe6fb2ad-ab3e-4b09-c89a-dbfd1231b4e0"
      },
      "source": [
        "model = LeNet().to(device)\n",
        "model"
      ],
      "execution_count": 9,
      "outputs": [
        {
          "output_type": "execute_result",
          "data": {
            "text/plain": [
              "LeNet(\n",
              "  (conv1): Conv2d(1, 20, kernel_size=(5, 5), stride=(1, 1))\n",
              "  (conv2): Conv2d(20, 50, kernel_size=(5, 5), stride=(1, 1))\n",
              "  (fc1): Linear(in_features=800, out_features=500, bias=True)\n",
              "  (dropout1): Dropout(p=0.5, inplace=False)\n",
              "  (fc2): Linear(in_features=500, out_features=10, bias=True)\n",
              ")"
            ]
          },
          "metadata": {},
          "execution_count": 9
        }
      ]
    },
    {
      "cell_type": "code",
      "metadata": {
        "id": "Ih7a7uql8JZ5"
      },
      "source": [
        "criterion = nn.CrossEntropyLoss()\n",
        "optimizer = torch.optim.Adam(model.parameters(),lr=0.0001)"
      ],
      "execution_count": 10,
      "outputs": []
    },
    {
      "cell_type": "code",
      "metadata": {
        "colab": {
          "base_uri": "https://localhost:8080/"
        },
        "id": "IGwk2q2G8ezR",
        "outputId": "0562c333-1bab-4af2-ec88-07892ce44856"
      },
      "source": [
        "epochs = 15\n",
        "running_loss_history = []\n",
        "running_corrects_history = []\n",
        "val_running_loss_his = []\n",
        "val_running_correct_his = []\n",
        "\n",
        "for e in range(epochs):\n",
        "  \n",
        "  running_loss = 0.0\n",
        "  running_corrects = 0.0\n",
        "  val_running_loss= 0.0\n",
        "  val_correct = 0.0\n",
        "\n",
        "  for inputs,labels in training_loader:\n",
        "    inputs = inputs.to(device)\n",
        "    labels = labels.to(device)\n",
        "    outputs = model(inputs)\n",
        "\n",
        "    loss = criterion(outputs,labels)\n",
        "    optimizer.zero_grad()\n",
        "    loss.backward()\n",
        "    optimizer.step()\n",
        "\n",
        "    _,preds= torch.max(outputs,1)\n",
        "    running_corrects+=torch.sum(preds == labels.data)\n",
        "\n",
        "\n",
        "    running_loss+=loss.item()\n",
        "  \n",
        "  else:\n",
        "    with torch.no_grad():\n",
        "      for val_inputs,val_labels in val_loader:\n",
        "        \n",
        "        val_inputs = val_inputs.to(device)\n",
        "        val_labels = val_labels.to(device)\n",
        "\n",
        "        val_outputs = model(val_inputs)\n",
        "        val_loss = criterion(val_outputs,val_labels)\n",
        "\n",
        "        _,val_preds= torch.max(val_outputs,1)\n",
        "        val_correct+=torch.sum(val_preds == val_labels.data)\n",
        "        val_running_loss+=val_loss.item()\n",
        "\n",
        "    epoch_loss= running_loss/len(training_loader)\n",
        "    epoch_accuracy= running_corrects.float()/len(training_loader)\n",
        "    running_loss_history.append(epoch_loss)\n",
        "    running_corrects_history.append(epoch_accuracy)\n",
        "\n",
        "    val_epoch_loss= val_running_loss/len(val_loader)\n",
        "    val_epoch_accuracy= val_correct.float()/len(val_loader) \n",
        "    val_running_loss_his.append(val_epoch_loss)\n",
        "    val_running_correct_his.append(val_epoch_accuracy)\n",
        "\n",
        "    print ('epoch:', (e+1))\n",
        "\n",
        "    print (\"Training loss: {:.4f}, acc {:.4f}\".format(epoch_loss,epoch_accuracy.item()))\n",
        "    print (\"Validation loss: {:.4f}, acc {:.4f}\".format(val_epoch_loss,val_epoch_accuracy.item()))"
      ],
      "execution_count": 11,
      "outputs": [
        {
          "output_type": "stream",
          "name": "stderr",
          "text": [
            "/usr/local/lib/python3.7/dist-packages/torch/nn/functional.py:718: UserWarning: Named tensors and all their associated APIs are an experimental feature and subject to change. Please do not use them for anything important until they are released as stable. (Triggered internally at  /pytorch/c10/core/TensorImpl.h:1156.)\n",
            "  return torch.max_pool2d(input, kernel_size, stride, padding, dilation, ceil_mode)\n"
          ]
        },
        {
          "output_type": "stream",
          "name": "stdout",
          "text": [
            "epoch: 1\n",
            "Training loss: 0.5918, acc 84.2200\n",
            "Validation loss: 0.1900, acc 94.7600\n",
            "epoch: 2\n",
            "Training loss: 0.1511, acc 95.6217\n",
            "Validation loss: 0.1018, acc 97.0900\n",
            "epoch: 3\n",
            "Training loss: 0.0974, acc 97.0667\n",
            "Validation loss: 0.0733, acc 97.9000\n",
            "epoch: 4\n",
            "Training loss: 0.0748, acc 97.7733\n",
            "Validation loss: 0.0600, acc 98.1700\n",
            "epoch: 5\n",
            "Training loss: 0.0615, acc 98.1267\n",
            "Validation loss: 0.0525, acc 98.3600\n",
            "epoch: 6\n",
            "Training loss: 0.0527, acc 98.4233\n",
            "Validation loss: 0.0468, acc 98.5400\n",
            "epoch: 7\n",
            "Training loss: 0.0468, acc 98.5683\n",
            "Validation loss: 0.0393, acc 98.7400\n",
            "epoch: 8\n",
            "Training loss: 0.0419, acc 98.7033\n",
            "Validation loss: 0.0360, acc 98.8100\n",
            "epoch: 9\n",
            "Training loss: 0.0379, acc 98.8733\n",
            "Validation loss: 0.0358, acc 98.7300\n",
            "epoch: 10\n",
            "Training loss: 0.0354, acc 98.8683\n",
            "Validation loss: 0.0336, acc 98.9000\n",
            "epoch: 11\n",
            "Training loss: 0.0322, acc 99.0217\n",
            "Validation loss: 0.0325, acc 98.9500\n",
            "epoch: 12\n",
            "Training loss: 0.0292, acc 99.0950\n",
            "Validation loss: 0.0342, acc 98.8800\n",
            "epoch: 13\n",
            "Training loss: 0.0272, acc 99.1850\n",
            "Validation loss: 0.0279, acc 99.1800\n",
            "epoch: 14\n",
            "Training loss: 0.0244, acc 99.2650\n",
            "Validation loss: 0.0287, acc 98.9800\n",
            "epoch: 15\n",
            "Training loss: 0.0233, acc 99.2800\n",
            "Validation loss: 0.0276, acc 99.0900\n"
          ]
        }
      ]
    },
    {
      "cell_type": "code",
      "metadata": {
        "colab": {
          "base_uri": "https://localhost:8080/",
          "height": 282
        },
        "id": "HBGE_62LDxQq",
        "outputId": "db238815-2ceb-43b7-9593-d92fa6d4a663"
      },
      "source": [
        "# labeprint (running_loss_history)\n",
        "plt.plot(running_loss_history,label='training loss')\n",
        "plt.plot(val_running_loss_his,label='validation loss')\n",
        "plt.legend()"
      ],
      "execution_count": 12,
      "outputs": [
        {
          "output_type": "execute_result",
          "data": {
            "text/plain": [
              "<matplotlib.legend.Legend at 0x7f5d440a4510>"
            ]
          },
          "metadata": {},
          "execution_count": 12
        },
        {
          "output_type": "display_data",
          "data": {
            "image/png": "[encoded data removed]",
            "text/plain": [
              "<Figure size 432x288 with 1 Axes>"
            ]
          },
          "metadata": {
            "needs_background": "light"
          }
        }
      ]
    },
    {
      "cell_type": "code",
      "metadata": {
        "colab": {
          "base_uri": "https://localhost:8080/",
          "height": 286
        },
        "id": "LjaueEbtGGGS",
        "outputId": "c5619b9d-aa3a-454e-c507-971b4d259932"
      },
      "source": [
        "plt.plot(running_corrects_history,label='training_Accuracy')\n",
        "plt.plot(val_running_correct_his,label =\"Validation Accuracy\")"
      ],
      "execution_count": 13,
      "outputs": [
        {
          "output_type": "execute_result",
          "data": {
            "text/plain": [
              "[<matplotlib.lines.Line2D at 0x7f5d4428ec10>]"
            ]
          },
          "metadata": {},
          "execution_count": 13
        },
        {
          "output_type": "display_data",
          "data": {
            "image/png": "[encoded data removed]",
            "text/plain": [
              "<Figure size 432x288 with 1 Axes>"
            ]
          },
          "metadata": {
            "needs_background": "light"
          }
        }
      ]
    },
    {
      "cell_type": "code",
      "metadata": {
        "colab": {
          "base_uri": "https://localhost:8080/",
          "height": 282
        },
        "id": "vRpsfSKUOory",
        "outputId": "756badd9-0fe6-4a3e-d270-b5352321b491"
      },
      "source": [
        "plt.plot(val_running_loss_his,label='training_Accuracy')"
      ],
      "execution_count": 14,
      "outputs": [
        {
          "output_type": "execute_result",
          "data": {
            "text/plain": [
              "[<matplotlib.lines.Line2D at 0x7f5d441cc7d0>]"
            ]
          },
          "metadata": {},
          "execution_count": 14
        },
        {
          "output_type": "display_data",
          "data": {
            "image/png": "[encoded data removed]",
            "text/plain": [
              "<Figure size 432x288 with 1 Axes>"
            ]
          },
          "metadata": {
            "needs_background": "light"
          }
        }
      ]
    },
    {
      "cell_type": "code",
      "metadata": {
        "colab": {
          "base_uri": "https://localhost:8080/",
          "height": 268
        },
        "id": "WVcYvC7ieuBd",
        "outputId": "2a6f3e46-6dc8-4ea8-ac9a-41ecb93c86b9"
      },
      "source": [
        "dataiter = iter(val_loader)\n",
        "images, label = dataiter.next()\n",
        "images = images.to(device)\n",
        "label = label.to(device)\n",
        "output = model(images)\n",
        "_,preds= torch.max(output,1)\n",
        "\n",
        "fig = plt.figure(figsize=(25,4))\n",
        "\n",
        "for idx in np.arange(20):\n",
        "  ax = fig.add_subplot(2,10,idx+1,xticks=[],yticks=[])\n",
        "  plt.imshow(image_convert(images[idx]))\n",
        "  ax.set_title(\"{} ({})\".format(str(preds[idx].item()), str(labels[idx].item())),color=(\"green\" if preds[idx]==label[idx] else \"red\"))"
      ],
      "execution_count": 20,
      "outputs": [
        {
          "output_type": "display_data",
          "data": {
            "image/png": "[encoded data removed]",
            "text/plain": [
              "<Figure size 1800x288 with 20 Axes>"
            ]
          },
          "metadata": {}
        }
      ]
    }
  ]
}